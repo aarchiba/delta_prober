{
 "metadata": {
  "name": "",
  "signature": "sha256:ef3ccd85daad35cd1dc60e0f8909eee432d0bba90f990ac7520c93f1c032614d"
 },
 "nbformat": 3,
 "nbformat_minor": 0,
 "worksheets": [
  {
   "cells": [
    {
     "cell_type": "code",
     "collapsed": false,
     "input": [
      "%load_ext autoreload\n",
      "\n",
      "%autoreload 2"
     ],
     "language": "python",
     "metadata": {},
     "outputs": [
      {
       "output_type": "stream",
       "stream": "stdout",
       "text": [
        "The autoreload extension is already loaded. To reload it, use:\n",
        "  %reload_ext autoreload\n"
       ]
      }
     ],
     "prompt_number": 83
    },
    {
     "cell_type": "code",
     "collapsed": false,
     "input": [
      "host = \"192.168.0.7\"\n",
      "port = 7777\n",
      "\n",
      "import time\n",
      "\n",
      "import prober"
     ],
     "language": "python",
     "metadata": {},
     "outputs": [],
     "prompt_number": 448
    },
    {
     "cell_type": "code",
     "collapsed": false,
     "input": [
      "conn = prober.Connection(host, port)"
     ],
     "language": "python",
     "metadata": {},
     "outputs": [],
     "prompt_number": 449
    },
    {
     "cell_type": "code",
     "collapsed": false,
     "input": [
      "conn.responses"
     ],
     "language": "python",
     "metadata": {},
     "outputs": [
      {
       "metadata": {},
       "output_type": "pyout",
       "prompt_number": 419,
       "text": [
        "[]"
       ]
      }
     ],
     "prompt_number": 419
    },
    {
     "cell_type": "code",
     "collapsed": false,
     "input": [
      "try:\n",
      "    cmd = conn.send_gcode_string(\"M81\")\n",
      "except ValueError:\n",
      "    pass\n",
      "print\n",
      "conn.check_for_responses()\n",
      "conn.responses"
     ],
     "language": "python",
     "metadata": {},
     "outputs": [
      {
       "output_type": "stream",
       "stream": "stdout",
       "text": [
        "\n"
       ]
      },
      {
       "metadata": {},
       "output_type": "pyout",
       "prompt_number": 420,
       "text": [
        "['Send: N1 M81*27\\n',\n",
        " u'Error:Line Number is not Last Line Number+1, Last Line: 39',\n",
        " u'Resend: 40',\n",
        " u'ok',\n",
        " 'Send: N40 M81*46\\n',\n",
        " u'ok']"
       ]
      }
     ],
     "prompt_number": 420
    },
    {
     "cell_type": "code",
     "collapsed": false,
     "input": [
      "conn.responses_to(cmd)"
     ],
     "language": "python",
     "metadata": {},
     "outputs": [
      {
       "metadata": {},
       "output_type": "pyout",
       "prompt_number": 421,
       "text": [
        "['Send: N40 M81*46\\n', u'ok']"
       ]
      }
     ],
     "prompt_number": 421
    },
    {
     "cell_type": "code",
     "collapsed": false,
     "input": [
      "cmd = conn.send_gcode_string(\"M111 S32\")\n",
      "time.sleep(1)\n",
      "conn.responses_to(cmd)"
     ],
     "language": "python",
     "metadata": {},
     "outputs": [
      {
       "metadata": {},
       "output_type": "pyout",
       "prompt_number": 422,
       "text": [
        "['Send: N41 M111 S32*101\\n', u'echo:DEBUG:LEVELING', u'ok']"
       ]
      }
     ],
     "prompt_number": 422
    },
    {
     "cell_type": "code",
     "collapsed": false,
     "input": [
      "conn.send_gcode_string(\"M80\")\n",
      "cmd = conn.send_gcode_string(\"G28\")\n",
      "conn.send_gcode_string(\"M81\")\n",
      "conn.responses_to(cmd)"
     ],
     "language": "python",
     "metadata": {},
     "outputs": [
      {
       "metadata": {},
       "output_type": "pyout",
       "prompt_number": 423,
       "text": [
        "['Send: N43 G28*36\\n',\n",
        " u'>>> gcode_G28',\n",
        " u'reset_bed_level',\n",
        " u'setup_for_endstop_or_probe_move(0.00, 0.00, 242.00) ',\n",
        " u' > current_position> endstops.enable(true)',\n",
        " u'sync_plan_position(0.00, 0.00, 0.00) ',\n",
        " u' > current_position>>> homeaxis(0)',\n",
        " u'sync_plan_position(0.00, 726.00, 726.00) ',\n",
        " u' > current_positionsync_plan_position(0.00, 726.00, 726.00) ',\n",
        " u' > current_position> TRIGGER ENDSTOP(0.00, 726.00, 726.00) ',\n",
        " u' > current_positionsync_plan_position(0.00, 726.00, 726.00) ',\n",
        " u' > current_position> endstop_adj = -0.95(-0.95, 726.00, 726.00) ',\n",
        " u' > destination>>> set_axis_is_at_home(0)',\n",
        " u'> home_offset[axis]==0.00(0.00, 726.00, 726.00) ',\n",
        " u' > current_position<<< set_axis_is_at_home(0)',\n",
        " u'sync_plan_position_delta(0.00, 726.00, 726.00) ',\n",
        " u' > current_position> AFTER set_axis_is_at_home(0.00, 726.00, 726.00) ',\n",
        " u' > current_position<<< homeaxis(0)',\n",
        " u'>>> homeaxis(1)',\n",
        " u'sync_plan_position(0.00, 0.00, 726.00) ',\n",
        " u' > current_positionsync_plan_position(0.00, 0.00, 726.00) ',\n",
        " u' > current_position> TRIGGER ENDSTOP(0.00, 0.00, 726.00) ',\n",
        " u' > current_positionsync_plan_position(0.00, 0.00, 726.00) ',\n",
        " u' > current_position> endstop_adj = -0.65(0.00, -0.65, 726.00) ',\n",
        " u' > destination>>> set_axis_is_at_home(1)',\n",
        " u'> home_offset[axis]==0.00(0.00, 0.00, 726.00) ',\n",
        " u' > current_position<<< set_axis_is_at_home(1)',\n",
        " u'sync_plan_position_delta(0.00, 0.00, 726.00) ',\n",
        " u' > current_position> AFTER set_axis_is_at_home(0.00, 0.00, 726.00) ',\n",
        " u' > current_position<<< homeaxis(1)',\n",
        " u'>>> homeaxis(2)',\n",
        " u'sync_plan_position(0.00, 0.00, 0.00) ',\n",
        " u' > current_positionsync_plan_position(0.00, 0.00, 0.00) ',\n",
        " u' > current_position> TRIGGER ENDSTOP(0.00, 0.00, 0.00) ',\n",
        " u' > current_positionsync_plan_position(0.00, 0.00, 0.00) ',\n",
        " u' > current_position> endstop_adj = -0.37(0.00, 0.00, -0.37) ',\n",
        " u' > destination>>> set_axis_is_at_home(2)',\n",
        " u'> home_offset[axis]==0.00(0.00, 0.00, 242.00) ',\n",
        " u' > current_position<<< set_axis_is_at_home(2)',\n",
        " u'sync_plan_position_delta(0.00, 0.00, 242.00) ',\n",
        " u' > current_position> AFTER set_axis_is_at_home(0.00, 0.00, 242.00) ',\n",
        " u' > current_position<<< homeaxis(2)',\n",
        " u'sync_plan_position_delta(0.00, 0.00, 242.00) ',\n",
        " u' > current_position(DELTA)(0.00, 0.00, 242.00) ',\n",
        " u' > current_position> endstops.not_homing()',\n",
        " u'clean_up_after_endstop_or_probe_move(0.00, 0.00, 242.00) ',\n",
        " u' > current_position<<< gcode_G28',\n",
        " u'X:0.00 Y:0.00 Z:242.00 E:0.00 Count X: 42929 Y:42988 Z:42913',\n",
        " u'ok',\n",
        " 'Send: N44 M81*42\\n',\n",
        " u'ok']"
       ]
      }
     ],
     "prompt_number": 423
    },
    {
     "cell_type": "code",
     "collapsed": false,
     "input": [
      "conn.send_gcode_string(\"M80\")\n",
      "cmd = conn.send_gcode_string(\"G28\")\n",
      "conn.send_gcode_string(\"M81\")\n",
      "conn.responses_to(cmd)"
     ],
     "language": "python",
     "metadata": {},
     "outputs": [
      {
       "metadata": {},
       "output_type": "pyout",
       "prompt_number": 424,
       "text": [
        "['Send: N46 G28*33\\n',\n",
        " u'>>> gcode_G28',\n",
        " u'reset_bed_level',\n",
        " u'setup_for_endstop_or_probe_move(0.00, 0.00, 242.00) ',\n",
        " u' > current_position> endstops.enable(true)',\n",
        " u'sync_plan_position(0.00, 0.00, 0.00) ',\n",
        " u' > current_position>>> homeaxis(0)',\n",
        " u'sync_plan_position(0.00, 726.00, 726.00) ',\n",
        " u' > current_positionsync_plan_position(0.00, 726.00, 726.00) ',\n",
        " u' > current_position> TRIGGER ENDSTOP(0.00, 726.00, 726.00) ',\n",
        " u' > current_positionsync_plan_position(0.00, 726.00, 726.00) ',\n",
        " u' > current_position> endstop_adj = -0.95(-0.95, 726.00, 726.00) ',\n",
        " u' > destination>>> set_axis_is_at_home(0)',\n",
        " u'> home_offset[axis]==0.00(0.00, 726.00, 726.00) ',\n",
        " u' > current_position<<< set_axis_is_at_home(0)',\n",
        " u'sync_plan_position_delta(0.00, 726.00, 726.00) ',\n",
        " u' > current_position> AFTER set_axis_is_at_home(0.00, 726.00, 726.00) ',\n",
        " u' > current_position<<< homeaxis(0)',\n",
        " u'>>> homeaxis(1)',\n",
        " u'sync_plan_position(0.00, 0.00, 726.00) ',\n",
        " u' > current_positionsync_plan_position(0.00, 0.00, 726.00) ',\n",
        " u' > current_position> TRIGGER ENDSTOP(0.00, 0.00, 726.00) ',\n",
        " u' > current_positionsync_plan_position(0.00, 0.00, 726.00) ',\n",
        " u' > current_position> endstop_adj = -0.65(0.00, -0.65, 726.00) ',\n",
        " u' > destination>>> set_axis_is_at_home(1)',\n",
        " u'> home_offset[axis]==0.00(0.00, 0.00, 726.00) ',\n",
        " u' > current_position<<< set_axis_is_at_home(1)',\n",
        " u'sync_plan_position_delta(0.00, 0.00, 726.00) ',\n",
        " u' > current_position> AFTER set_axis_is_at_home(0.00, 0.00, 726.00) ',\n",
        " u' > current_position<<< homeaxis(1)',\n",
        " u'>>> homeaxis(2)',\n",
        " u'sync_plan_position(0.00, 0.00, 0.00) ',\n",
        " u' > current_positionsync_plan_position(0.00, 0.00, 0.00) ',\n",
        " u' > current_position> TRIGGER ENDSTOP(0.00, 0.00, 0.00) ',\n",
        " u' > current_positionsync_plan_position(0.00, 0.00, 0.00) ',\n",
        " u' > current_position> endstop_adj = -0.37(0.00, 0.00, -0.37) ',\n",
        " u' > destination>>> set_axis_is_at_home(2)',\n",
        " u'> home_offset[axis]==0.00(0.00, 0.00, 242.00) ',\n",
        " u' > current_position<<< set_axis_is_at_home(2)',\n",
        " u'sync_plan_position_delta(0.00, 0.00, 242.00) ',\n",
        " u' > current_position> AFTER set_axis_is_at_home(0.00, 0.00, 242.00) ',\n",
        " u' > current_position<<< homeaxis(2)',\n",
        " u'sync_plan_position_delta(0.00, 0.00, 242.00) ',\n",
        " u' > current_position(DELTA)(0.00, 0.00, 242.00) ',\n",
        " u' > current_position> endstops.not_homing()',\n",
        " u'clean_up_after_endstop_or_probe_move(0.00, 0.00, 242.00) ',\n",
        " u' > current_position<<< gcode_G28',\n",
        " u'X:0.00 Y:0.00 Z:242.00 E:0.00 Count X: 42929 Y:42988 Z:42913',\n",
        " u'ok',\n",
        " 'Send: N47 M81*41\\n',\n",
        " u'ok']"
       ]
      }
     ],
     "prompt_number": 424
    },
    {
     "cell_type": "code",
     "collapsed": false,
     "input": [
      "conn.send_gcode_string(\"M80\")\n",
      "conn.send_gcode_string(\"G28\")\n",
      "conn.send_gcode_string(\"G0 X0 Y0 Z100 F6000\")\n",
      "conn.send_gcode_string(\"G0 X0 Y60 Z100 F6000\")\n",
      "conn.send_gcode_string(\"G0 X0 Y60 Z240 F1000\")\n",
      "cmd = conn.send_gcode_string(\"G28\")\n",
      "conn.send_gcode_string(\"M81\")\n",
      "conn.responses_to(cmd)"
     ],
     "language": "python",
     "metadata": {},
     "outputs": [
      {
       "metadata": {},
       "output_type": "pyout",
       "prompt_number": 425,
       "text": [
        "['Send: N53 G28*37\\n',\n",
        " u'>>> gcode_G28',\n",
        " u'reset_bed_level',\n",
        " u'setup_for_endstop_or_probe_move(0.00, 60.00, 240.00) ',\n",
        " u' > current_position> endstops.enable(true)',\n",
        " u'sync_plan_position(0.00, 0.00, 0.00) ',\n",
        " u' > current_position>>> homeaxis(0)',\n",
        " u'sync_plan_position(0.00, 726.00, 726.00) ',\n",
        " u' > current_positionsync_plan_position(0.00, 726.00, 726.00) ',\n",
        " u' > current_position> TRIGGER ENDSTOP(0.00, 726.00, 726.00) ',\n",
        " u' > current_positionsync_plan_position(0.00, 726.00, 726.00) ',\n",
        " u' > current_position> endstop_adj = -0.95(-0.95, 726.00, 726.00) ',\n",
        " u' > destination>>> set_axis_is_at_home(0)',\n",
        " u'> home_offset[axis]==0.00(0.00, 726.00, 726.00) ',\n",
        " u' > current_position<<< set_axis_is_at_home(0)',\n",
        " u'sync_plan_position_delta(0.00, 726.00, 726.00) ',\n",
        " u' > current_position> AFTER set_axis_is_at_home(0.00, 726.00, 726.00) ',\n",
        " u' > current_position<<< homeaxis(0)',\n",
        " u'>>> homeaxis(1)',\n",
        " u'sync_plan_position(0.00, 0.00, 726.00) ',\n",
        " u' > current_positionsync_plan_position(0.00, 0.00, 726.00) ',\n",
        " u' > current_position> TRIGGER ENDSTOP(0.00, 0.00, 726.00) ',\n",
        " u' > current_positionsync_plan_position(0.00, 0.00, 726.00) ',\n",
        " u' > current_position> endstop_adj = -0.65(0.00, -0.65, 726.00) ',\n",
        " u' > destination>>> set_axis_is_at_home(1)',\n",
        " u'> home_offset[axis]==0.00(0.00, 0.00, 726.00) ',\n",
        " u' > current_position<<< set_axis_is_at_home(1)',\n",
        " u'sync_plan_position_delta(0.00, 0.00, 726.00) ',\n",
        " u' > current_position> AFTER set_axis_is_at_home(0.00, 0.00, 726.00) ',\n",
        " u' > current_position<<< homeaxis(1)',\n",
        " u'>>> homeaxis(2)',\n",
        " u'sync_plan_position(0.00, 0.00, 0.00) ',\n",
        " u' > current_positionsync_plan_position(0.00, 0.00, 0.00) ',\n",
        " u' > current_position> TRIGGER ENDSTOP(0.00, 0.00, 0.00) ',\n",
        " u' > current_positionsync_plan_position(0.00, 0.00, 0.00) ',\n",
        " u' > current_position> endstop_adj = -0.37(0.00, 0.00, -0.37) ',\n",
        " u' > destination>>> set_axis_is_at_home(2)',\n",
        " u'> home_offset[axis]==0.00(0.00, 0.00, 242.00) ',\n",
        " u' > current_position<<< set_axis_is_at_home(2)',\n",
        " u'sync_plan_position_delta(0.00, 0.00, 242.00) ',\n",
        " u' > current_position> AFTER set_axis_is_at_home(0.00, 0.00, 242.00) ',\n",
        " u' > current_position<<< homeaxis(2)',\n",
        " u'sync_plan_position_delta(0.00, 0.00, 242.00) ',\n",
        " u' > current_position(DELTA)(0.00, 0.00, 242.00) ',\n",
        " u' > current_position> endstops.not_homing()',\n",
        " u'clean_up_after_endstop_or_probe_move(0.00, 0.00, 242.00) ',\n",
        " u' > current_position<<< gcode_G28',\n",
        " u'X:0.00 Y:0.00 Z:242.00 E:0.00 Count X: 42929 Y:42988 Z:42913',\n",
        " u'ok',\n",
        " 'Send: N54 M81*43\\n',\n",
        " u'ok']"
       ]
      }
     ],
     "prompt_number": 425
    },
    {
     "cell_type": "code",
     "collapsed": false,
     "input": [
      "cmd = conn.send_gcode_string(\"M119\")\n",
      "conn.await_response(cmd, \"z_min: +(\\w+)\")"
     ],
     "language": "python",
     "metadata": {},
     "outputs": [
      {
       "metadata": {},
       "output_type": "pyout",
       "prompt_number": 445,
       "text": [
        "(u'z_min: open', <_sre.SRE_Match at 0x7f0f6cab4a80>)"
       ]
      }
     ],
     "prompt_number": 445
    },
    {
     "cell_type": "code",
     "collapsed": false,
     "input": [
      "cmd = conn.send_gcode_string(\"M119\")\n",
      "conn.responses_to(cmd)"
     ],
     "language": "python",
     "metadata": {},
     "outputs": [
      {
       "metadata": {},
       "output_type": "pyout",
       "prompt_number": 435,
       "text": [
        "['Send: N59 M119*22\\n',\n",
        " u'Reporting endstop status',\n",
        " u'x_max: open',\n",
        " u'y_max: open',\n",
        " u'z_min: open',\n",
        " u'z_max: open',\n",
        " u'ok']"
       ]
      }
     ],
     "prompt_number": 435
    },
    {
     "cell_type": "code",
     "collapsed": false,
     "input": [
      "conn.send_gcode_string(\"M80\")\n",
      "conn.send_gcode_string(\"G28\")\n",
      "conn.send_gcode_string(\"G0 X0 Y0 Z10 F6000\")\n",
      "cmd = conn.send_gcode_string(\"G30 X0 Y0 S-1\")\n",
      "conn.send_gcode_string(\"M81\")\n",
      "conn.responses_to(cmd)"
     ],
     "language": "python",
     "metadata": {},
     "outputs": [
      {
       "metadata": {},
       "output_type": "pyout",
       "prompt_number": 452,
       "text": [
        "['Send: N6552 G30 X0 Y0 S-1*64\\n',\n",
        " u'echo:busy: processing',\n",
        " u'echo:busy: processing',\n",
        " u'Bed X: 0.00 Y: -10.00 Z: -0.36',\n",
        " u'X:0.00 Y:0.00 Z:50.00 E:0.00 Count X: 23729 Y:23788 Z:23713',\n",
        " u'ok',\n",
        " 'Send: N6553 M81*47\\n',\n",
        " u'ok']"
       ]
      }
     ],
     "prompt_number": 452
    },
    {
     "cell_type": "code",
     "collapsed": false,
     "input": [
      "cmd = conn.send_gcode_string(\"M503\")\n",
      "conn.responses_to(cmd)"
     ],
     "language": "python",
     "metadata": {},
     "outputs": [
      {
       "metadata": {},
       "output_type": "pyout",
       "prompt_number": 451,
       "text": [
        "['Send: N6548 M503*26\\n',\n",
        " u'echo:Steps per unit:',\n",
        " u'echo:  M92 X100.00 Y100.00 Z100.00 E470.00',\n",
        " u'echo:Maximum feedrates (mm/s):',\n",
        " u'echo:  M203 X500.00 Y500.00 Z500.00 E25.00',\n",
        " u'echo:Maximum Acceleration (mm/s2):',\n",
        " u'echo:  M201 X9000 Y9000 Z9000 E10000',\n",
        " u'echo:Accelerations: P=printing, R=retract and T=travel',\n",
        " u'echo:  M204 P3000.00 R3000.00 T3000.00',\n",
        " u'echo:Advanced variables: S=Min feedrate (mm/s), T=Min travel feedrate (mm/s), B=minimum segment time (ms), X=maximum XY jerk (mm/s),  Z=maximum Z jerk (mm/s),  E=maximum E jerk (mm/s)',\n",
        " u'echo:  M205 S0.00 T0.00 B20000 X20.00 Z20.00 E5.00',\n",
        " u'echo:Home offset (mm)',\n",
        " u'echo:  M206 X0.00 Y0.00 Z0.00',\n",
        " u'echo:Endstop adjustment (mm):',\n",
        " u'echo:  M666 X-0.95 Y-0.65 Z-0.37',\n",
        " u'echo:Delta settings: L=diagonal_rod, R=radius, S=segments_per_second, ABC=diagonal_rod_trim_tower_[123]',\n",
        " u'echo:  M665 L215.00 R105.70 S200.00 A0.06 B0.57 C-0.08',\n",
        " u'echo:Material heatup parameters:',\n",
        " u'echo:  M145 S0 H180 B70 F255',\n",
        " u'echo:  M145 S1 H240 B100 F255',\n",
        " u'echo:PID settings:',\n",
        " u'echo:  M301 P35.91 I3.58 D93.38 C100.00 L20',\n",
        " u'echo:  M304 P153.92 I27.00 D219.39',\n",
        " u'echo:Filament settings: Disabled',\n",
        " u'echo:  M200 D3.00',\n",
        " u'echo:  M200 D0',\n",
        " u'echo:Z-Probe Offset (mm):',\n",
        " u'echo:  M851 Z0.25',\n",
        " u'ok']"
       ]
      }
     ],
     "prompt_number": 451
    },
    {
     "cell_type": "code",
     "collapsed": false,
     "input": [],
     "language": "python",
     "metadata": {},
     "outputs": []
    }
   ],
   "metadata": {}
  }
 ]
}