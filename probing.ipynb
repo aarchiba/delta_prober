{
 "metadata": {
  "name": "",
  "signature": "sha256:3f04caa02f9aae11bba2ac902e72acc0465dec42833e019d85327643e3163a1a"
 },
 "nbformat": 3,
 "nbformat_minor": 0,
 "worksheets": [
  {
   "cells": [
    {
     "cell_type": "markdown",
     "metadata": {},
     "source": [
      "# Probing the bed\n",
      "\n",
      "This worksheet uses the tools in the prober module to systematically probe the bed."
     ]
    },
    {
     "cell_type": "code",
     "collapsed": false,
     "input": [
      "%load_ext autoreload\n",
      "\n",
      "%autoreload 2"
     ],
     "language": "python",
     "metadata": {},
     "outputs": [],
     "prompt_number": 1
    },
    {
     "cell_type": "code",
     "collapsed": false,
     "input": [
      "host = \"192.168.0.7\" # octopi server attached to coral\n",
      "port = 7777 # temporary telnet port that forwards serial traffic\n",
      "\n",
      "import time\n",
      "\n",
      "import prober"
     ],
     "language": "python",
     "metadata": {},
     "outputs": [],
     "prompt_number": 2
    },
    {
     "cell_type": "code",
     "collapsed": false,
     "input": [
      "P = prober.Prober(prober.Connection(host, port))"
     ],
     "language": "python",
     "metadata": {},
     "outputs": [],
     "prompt_number": 59
    },
    {
     "cell_type": "markdown",
     "metadata": {},
     "source": [
      "## Repeatability and precision of probing\n",
      "\n",
      "The goal here is to test how well the probes work in the easiest possible situation: probing the center point of the bed repeatedly with no motion in between. \n",
      "\n",
      "Note that the probe offsets from the firmware are applied here: we specify the (x,y) point to put the nozzle, and the returned coordinates are where the machine thinks the probe hit the bed. Coral uses FSRs under the bed, so the (x,y) offsets should be zero but somehow the bogus value crept back into my firmware. I blame git gymnastics."
     ]
    },
    {
     "cell_type": "code",
     "collapsed": false,
     "input": [
      "P.on()\n",
      "P.clear()\n",
      "P.home()\n",
      "for i in range(25):\n",
      "    P.probe()\n",
      "P.off()"
     ],
     "language": "python",
     "metadata": {},
     "outputs": [],
     "prompt_number": 29
    },
    {
     "cell_type": "code",
     "collapsed": false,
     "input": [
      "P.probes"
     ],
     "language": "python",
     "metadata": {},
     "outputs": [
      {
       "metadata": {},
       "output_type": "pyout",
       "prompt_number": 30,
       "text": [
        "[(0, 0, -0.35),\n",
        " (0, 0, -0.35),\n",
        " (0, 0, -0.35),\n",
        " (0, 0, -0.36),\n",
        " (0, 0, -0.36),\n",
        " (0, 0, -0.36),\n",
        " (0, 0, -0.36),\n",
        " (0, 0, -0.35),\n",
        " (0, 0, -0.35),\n",
        " (0, 0, -0.36),\n",
        " (0, 0, -0.35),\n",
        " (0, 0, -0.36),\n",
        " (0, 0, -0.35),\n",
        " (0, 0, -0.36),\n",
        " (0, 0, -0.36),\n",
        " (0, 0, -0.35),\n",
        " (0, 0, -0.36),\n",
        " (0, 0, -0.36),\n",
        " (0, 0, -0.36),\n",
        " (0, 0, -0.36),\n",
        " (0, 0, -0.35),\n",
        " (0, 0, -0.36),\n",
        " (0, 0, -0.36),\n",
        " (0, 0, -0.36),\n",
        " (0, 0, -0.36)]"
       ]
      }
     ],
     "prompt_number": 30
    },
    {
     "cell_type": "code",
     "collapsed": false,
     "input": [
      "a = np.array(P.probes)\n",
      "simple_probe_std = np.std(a[:,2])\n",
      "simple_probe_std"
     ],
     "language": "python",
     "metadata": {},
     "outputs": [
      {
       "metadata": {},
       "output_type": "pyout",
       "prompt_number": 31,
       "text": [
        "0.0048000000000000048"
       ]
      }
     ],
     "prompt_number": 31
    },
    {
     "cell_type": "markdown",
     "metadata": {},
     "source": [
      "Well, this is annoying: G30 only reports two decimal places. But in fact Coral only gets 100 steps/mm, so the only way this loses information is when the conversion from axis position to 3D coordinates gets rounded (delta geometry means sometimes you have much more resolution than this, but specifically not when probing vertically). That does mean we're going to have to make sure all our effects are large enough to see on this scale.\n",
      "\n",
      "Our standard deviation number is not very trustworthy; although in principle with enough samples it will converge to the right standard deviation, or at least it would if we could easily add random sub-ten-micron jitter to randomize the quantization, the convergence will be really slow. Peu importe; the value is small compared to our resolution, so repeatability is about all we can hope for."
     ]
    },
    {
     "cell_type": "markdown",
     "metadata": {},
     "source": [
      "## Repeatability of endstops\n",
      "\n",
      "The goal in this section is to evaluate how repeatable the endstops are - that is, how much variation re-homing introduces into the positioning. We're still stuck with the annoying resolution limitation, but we can at least try to find out how much scatter re-homing adds.\n",
      "\n",
      "It's worth noting that re-homing from a standard position is going to introduce less scatter than re-homing from a randomized position, since the latter changes which endstop is hit first and how many (micro-)steps are needed to return home. So we'll do both."
     ]
    },
    {
     "cell_type": "code",
     "collapsed": false,
     "input": [
      "P.on()\n",
      "P.clear()\n",
      "P.home()\n",
      "for i in range(16):\n",
      "    P.probe(force_rehome=True)\n",
      "P.off()"
     ],
     "language": "python",
     "metadata": {},
     "outputs": [],
     "prompt_number": 32
    },
    {
     "cell_type": "code",
     "collapsed": false,
     "input": [
      "a = np.array(P.probes)\n",
      "simple_home_std = np.std(a[:,2])\n",
      "simple_home_std"
     ],
     "language": "python",
     "metadata": {},
     "outputs": [
      {
       "metadata": {},
       "output_type": "pyout",
       "prompt_number": 33,
       "text": [
        "0.0074999999999999841"
       ]
      }
     ],
     "prompt_number": 33
    },
    {
     "cell_type": "code",
     "collapsed": false,
     "input": [
      "def go_to_random_pos():\n",
      "    r = np.random.uniform(0,50)\n",
      "    theta = np.random.uniform(0,2*np.pi)\n",
      "    P.move(r*np.cos(theta), r*np.sin(theta), z=P.height)\n",
      "P.on()\n",
      "P.clear()\n",
      "P.home()\n",
      "for i in range(16):\n",
      "    P.probe()\n",
      "    go_to_random_pos()\n",
      "    P.home()\n",
      "P.off()"
     ],
     "language": "python",
     "metadata": {},
     "outputs": [],
     "prompt_number": 34
    },
    {
     "cell_type": "code",
     "collapsed": false,
     "input": [
      "a = np.array(P.probes)\n",
      "moving_home_std = np.std(a[:,2])\n",
      "moving_home_std"
     ],
     "language": "python",
     "metadata": {},
     "outputs": [
      {
       "metadata": {},
       "output_type": "pyout",
       "prompt_number": 35,
       "text": [
        "0.0096622655210876762"
       ]
      }
     ],
     "prompt_number": 35
    },
    {
     "cell_type": "markdown",
     "metadata": {},
     "source": [
      "So it looks like maybe moving around made things a little worse, but even so, the repeatability of the probing is around 10 microns. "
     ]
    },
    {
     "cell_type": "markdown",
     "metadata": {},
     "source": [
      "## Mapping the bed\n",
      "\n",
      "The idea here is simple: just probe all over a grid and record the results, then plot them. Of course, there are regions it's not safe to probe, most obviously those outside the bed, but also places (on Coral) where the effector snags the belts or hits retaining tabs. So it's necessary to warn the prober about those."
     ]
    },
    {
     "cell_type": "code",
     "collapsed": false,
     "input": [
      "P = prober.Prober(prober.Connection(host, port), probeable_radius=65.)\n",
      "P.set_restriction(lambda x,y: x+y>-85)\n",
      "P.set_restriction(lambda x,y: x-y<85)\n"
     ],
     "language": "python",
     "metadata": {},
     "outputs": [],
     "prompt_number": 27
    },
    {
     "cell_type": "code",
     "collapsed": false,
     "input": [
      "P.on()\n",
      "xs, ys, rs = P.probe_grid(15)\n",
      "P.off()"
     ],
     "language": "python",
     "metadata": {},
     "outputs": [],
     "prompt_number": 28
    },
    {
     "cell_type": "code",
     "collapsed": false,
     "input": [
      "import matplotlib\n",
      "matplotlib.rcParams['savefig.dpi'] = 144\n",
      "import matplotlib.pyplot as plt\n",
      "plt.viridis()\n",
      "pbs = np.array(P.probes)\n",
      "print len(set(pbs[:,0]))\n",
      "print len(set(pbs[:,1]))\n",
      "plt.contourf(xs,ys,rs.T)\n",
      "plt.xlabel(\"X (mm)\")\n",
      "plt.ylabel(\"Y (mm)\")\n",
      "plt.gca().set_aspect('equal')\n",
      "plt.colorbar(label=\"Z (mm)\")"
     ],
     "language": "python",
     "metadata": {},
     "outputs": [
      {
       "output_type": "stream",
       "stream": "stdout",
       "text": [
        "13\n",
        "13\n"
       ]
      },
      {
       "metadata": {},
       "output_type": "pyout",
       "prompt_number": 29,
       "text": [
        "<matplotlib.colorbar.Colorbar at 0x7f6b4b847250>"
       ]
      },
      {
       "metadata": {},
       "output_type": "display_data",
       "png": "[encoded data removed]",
       "text": [
        "<matplotlib.figure.Figure at 0x7f6b5452c550>"
       ]
      }
     ],
     "prompt_number": 29
    },
    {
     "cell_type": "code",
     "collapsed": false,
     "input": [
      "P.probes"
     ],
     "language": "python",
     "metadata": {},
     "outputs": [
      {
       "metadata": {},
       "output_type": "pyout",
       "prompt_number": 21,
       "text": [
        "[(-58.33, -33.33, -0.46),\n",
        " (-58.33, -21.67, -0.41),\n",
        " (-58.33, -10.0, -0.31),\n",
        " (-58.33, 1.67, -0.3),\n",
        " (-58.33, 13.33, -0.33),\n",
        " (-58.33, 25.0, -8.68),\n",
        " (-46.67, -45.0, -7.59)]"
       ]
      }
     ],
     "prompt_number": 21
    },
    {
     "cell_type": "code",
     "collapsed": false,
     "input": [],
     "language": "python",
     "metadata": {},
     "outputs": []
    }
   ],
   "metadata": {}
  }
 ]
}